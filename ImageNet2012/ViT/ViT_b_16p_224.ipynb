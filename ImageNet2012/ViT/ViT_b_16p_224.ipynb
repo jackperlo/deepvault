{
 "cells": [
  {
   "cell_type": "markdown",
   "id": "6a3283ef",
   "metadata": {},
   "source": [
    "The Vision Transformer (ViT) is a transformer encoder model (BERT-like) pretrained on a large collection of images in a supervised fashion, namely ImageNet-21k, at a resolution of 224x224 pixels. Next, the model was fine-tuned on ImageNet (also referred to as ILSVRC2012), a dataset comprising 1 million images and 1,000 classes, also at resolution 224x224.\n",
    "Images are presented to the model as a sequence of fixed-size patches (resolution 16x16), which are linearly embedded.\n",
    "arXiv:2010.11929"
   ]
  },
  {
   "cell_type": "code",
   "execution_count": null,
   "id": "8e19b6dc",
   "metadata": {},
   "outputs": [],
   "source": [
    "import keras\n",
    "import keras_hub\n",
    "import tensorflow as tf\n",
    "import os\n",
    "import sys\n",
    "\n",
    "sys.path.append(os.path.abspath(\"../\"))\n",
    "from imagenet2012_utils import ImageNetDataset\n",
    "os.environ[\"KERAS_BACKEND\"] = \"tensorflow\""
   ]
  },
  {
   "cell_type": "code",
   "execution_count": null,
   "id": "bbebeba9",
   "metadata": {},
   "outputs": [],
   "source": [
    "gpus = tf.config.list_physical_devices(device_type='GPU')\n",
    "print(gpus)\n",
    "if gpus:\n",
    "  try:\n",
    "    # Set memory growth to avoid DNN library initialization errors\n",
    "    for gpu in gpus:\n",
    "        tf.config.experimental.set_memory_growth(gpu, True)\n",
    "    # Optionally, restrict to only the first GPU\n",
    "    tf.config.set_visible_devices(gpus[0], 'GPU')\n",
    "    logical_gpus = tf.config.list_logical_devices('GPU')\n",
    "    print(f\"{len(gpus)} Physical GPUs, {len(logical_gpus)} Logical GPUs\")\n",
    "  except RuntimeError as e:\n",
    "    print(e)"
   ]
  },
  {
   "cell_type": "code",
   "execution_count": null,
   "id": "a3c5d63d",
   "metadata": {},
   "outputs": [],
   "source": [
    "(training_images, training_labels) ,\\\n",
    "(validation_images, validation_labels) = \\\n",
    "ImageNetDataset.load_validation_dataset(mode='ViT-b_16p')"
   ]
  },
  {
   "cell_type": "code",
   "execution_count": null,
   "id": "829fb2b8",
   "metadata": {},
   "outputs": [],
   "source": [
    "model = keras_hub.models.ImageClassifier.from_preset(\n",
    "  \"vit_base_patch16_224_imagenet\",\n",
    "  activation=\"softmax\",\n",
    ")\n",
    "\n",
    "model.compile(\n",
    "  loss=\"sparse_categorical_crossentropy\",\n",
    "  metrics=[\"accuracy\"]\n",
    ")\n",
    "\n",
    "model.summary()"
   ]
  },
  {
   "cell_type": "code",
   "execution_count": null,
   "id": "5f8e6055",
   "metadata": {},
   "outputs": [],
   "source": [
    "model.evaluate(validation_images, validation_labels)\n",
    "model.evaluate(validation_images[:2000], validation_labels[:2000])"
   ]
  },
  {
   "cell_type": "code",
   "execution_count": null,
   "id": "22672ec8",
   "metadata": {},
   "outputs": [],
   "source": [
    "MODEL_PATH = \"../models_data/ViT-b_16p_224/\"\n",
    "os.makedirs(MODEL_PATH, exist_ok=True)\n",
    "model.save(MODEL_PATH+'/ViT-b_16p_224_fp32_imagenet2012.keras')"
   ]
  },
  {
   "cell_type": "code",
   "execution_count": null,
   "id": "7767bb98",
   "metadata": {},
   "outputs": [],
   "source": [
    "def representative_dataset():\n",
    "  for images in tf.data.Dataset.from_tensor_slices(validation_images).batch(1).take(1000):\n",
    "    yield [images]\n",
    "\n",
    "loaded_model = keras.saving.load_model(\"../models_data/ViT-b_16p_224/ViT-b_16p_224_fp32_imagenet2012.keras\")\n",
    "converter = tf.lite.TFLiteConverter.from_keras_model(loaded_model)\n",
    "converter.optimizations = [tf.lite.Optimize.DEFAULT] \n",
    "converter.representative_dataset = representative_dataset\n",
    "\n",
    "converter.target_spec.supported_ops = [tf.lite.OpsSet.TFLITE_BUILTINS_INT8]\n",
    "converter.inference_input_type = tf.uint8\n",
    "converter.inference_output_type = tf.uint8\n",
    "tflite_quant_model = converter.convert()\n",
    "with open('../models_data/ViT-b_16p_224/ViT-b_16p_224_uint8_imagenet2012.tflite', 'wb') as f:\n",
    "  f.write(tflite_quant_model)\n",
    "\n",
    "converter.target_spec.supported_ops = [tf.lite.OpsSet.TFLITE_BUILTINS_INT8]\n",
    "converter.inference_input_type = tf.int8\n",
    "converter.inference_output_type = tf.int8\n",
    "tflite_quant_model = converter.convert()\n",
    "with open('../models_data/ViT-b_16p_224/ViT-b_16p_224_int8_imagenet2012.tflite', 'wb') as f:\n",
    "  f.write(tflite_quant_model)"
   ]
  }
 ],
 "metadata": {
  "kernelspec": {
   "display_name": "base",
   "language": "python",
   "name": "python3"
  },
  "language_info": {
   "codemirror_mode": {
    "name": "ipython",
    "version": 3
   },
   "file_extension": ".py",
   "mimetype": "text/x-python",
   "name": "python",
   "nbconvert_exporter": "python",
   "pygments_lexer": "ipython3",
   "version": "3.11.7"
  }
 },
 "nbformat": 4,
 "nbformat_minor": 5
}
