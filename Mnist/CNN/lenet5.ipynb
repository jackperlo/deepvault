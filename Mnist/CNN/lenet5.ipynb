{
 "cells": [
  {
   "cell_type": "code",
   "execution_count": null,
   "metadata": {},
   "outputs": [],
   "source": [
    "import tensorflow as tf\n",
    "import keras\n",
    "import os"
   ]
  },
  {
   "cell_type": "code",
   "execution_count": null,
   "metadata": {},
   "outputs": [],
   "source": [
    "gpus = tf.config.list_physical_devices(device_type='GPU')\n",
    "print(gpus)\n",
    "if gpus:\n",
    "  try:\n",
    "    for gpu in gpus:\n",
    "      tf.config.experimental.set_memory_growth(gpu, True)\n",
    "    tf.config.set_visible_devices(gpus[0], 'GPU')\n",
    "    logical_gpus = tf.config.list_logical_devices('GPU')\n",
    "    print(f\"{len(gpus)} Physical GPUs, {len(logical_gpus)} Logical GPUs\")\n",
    "  except RuntimeError as e:\n",
    "    print(e)"
   ]
  },
  {
   "cell_type": "code",
   "execution_count": null,
   "metadata": {},
   "outputs": [],
   "source": [
    "(training_images, training_labels), \\\n",
    "(validation_images, validation_labels) = \\\n",
    "    tf.keras.datasets.mnist.load_data()"
   ]
  },
  {
   "cell_type": "code",
   "execution_count": null,
   "metadata": {},
   "outputs": [],
   "source": [
    "def preprocess_image_input(input_images):\n",
    "  # normalizing in [0, 1] range\n",
    "  preprocessed_images = tf.pad(input_images, [[0, 0], [2, 2], [2, 2]]) / 255\n",
    "  preprocessed_images = tf.expand_dims(preprocessed_images, axis=3, name=None)\n",
    "  return preprocessed_images\n",
    "\n",
    "train_X = preprocess_image_input(training_images)\n",
    "valid_X = preprocess_image_input(validation_images)"
   ]
  },
  {
   "cell_type": "code",
   "execution_count": null,
   "metadata": {},
   "outputs": [],
   "source": [
    "def create_model():\n",
    "  Lenet = tf.keras.Sequential()\n",
    "  Lenet.add(tf.keras.layers.Conv2D(6, kernel_size=(5, 5), activation='tanh', input_shape=(32,32,1)))\n",
    "  Lenet.add(tf.keras.layers.AveragePooling2D(pool_size=(2, 2)))\n",
    "\n",
    "  Lenet.add(tf.keras.layers.Conv2D(16, kernel_size=(5, 5), activation='tanh'))\n",
    "  Lenet.add(tf.keras.layers.AveragePooling2D(pool_size=(2, 2)))\n",
    "\n",
    "  Lenet.add(tf.keras.layers.Conv2D(120, kernel_size=(5, 5), activation='tanh'))\n",
    "\n",
    "  Lenet.add(tf.keras.layers.Flatten())\n",
    "  Lenet.add(tf.keras.layers.Dense(84, activation='tanh'))\n",
    "  Lenet.add(tf.keras.layers.Dense(10, activation='softmax'))\n",
    "\n",
    "  return Lenet\n",
    "\n",
    "'''\n",
    "Define the model and compile it. \n",
    "Use Adam as the optimizer.\n",
    "Use Sparse Categorical CrossEntropy as the loss function.\n",
    "'''\n",
    "def define_compile_model():\n",
    "  Lenet = create_model()\n",
    "  inputs = tf.keras.layers.Input(shape=(32,32,1), dtype=tf.float32)\n",
    "  Lenet = Lenet(inputs)\n",
    "  model = tf.keras.Model(inputs=inputs, outputs=Lenet)\n",
    "  model.compile(optimizer='adam', loss='sparse_categorical_crossentropy', metrics=['accuracy'])\n",
    "  return model\n",
    "\n",
    "model = define_compile_model()\n",
    "model.summary()"
   ]
  },
  {
   "cell_type": "code",
   "execution_count": null,
   "metadata": {},
   "outputs": [],
   "source": [
    "EPOCHS = 1\n",
    "\n",
    "history = model.fit(train_X, \n",
    "                    training_labels, \n",
    "                    epochs=EPOCHS, \n",
    "                    validation_data = (valid_X, validation_labels), \n",
    "                    batch_size=64)"
   ]
  },
  {
   "cell_type": "code",
   "execution_count": null,
   "metadata": {},
   "outputs": [],
   "source": [
    "MODEL_PATH = \"../models_data/lenet5/\"\n",
    "os.makedirs(MODEL_PATH, exist_ok=True)\n",
    "model.save(MODEL_PATH+\"lenet5_fp32_mnist.keras\")"
   ]
  },
  {
   "cell_type": "code",
   "execution_count": null,
   "metadata": {},
   "outputs": [],
   "source": [
    "model.evaluate(valid_X, validation_labels)\n",
    "model.evaluate(valid_X[:2000], validation_labels[:2000])"
   ]
  },
  {
   "cell_type": "code",
   "execution_count": null,
   "metadata": {},
   "outputs": [],
   "source": [
    "def representative_dataset():\n",
    "  for images in tf.data.Dataset.from_tensor_slices(train_X).batch(1).take(1000):\n",
    "    yield [images]\n",
    "\n",
    "loaded_model = keras.saving.load_model(\"../models_data/lenet5/lenet5_fp32_mnist.keras\")\n",
    "converter = tf.lite.TFLiteConverter.from_keras_model(loaded_model)\n",
    "converter.optimizations = [tf.lite.Optimize.DEFAULT] \n",
    "converter.representative_dataset = representative_dataset\n",
    "\n",
    "converter.target_spec.supported_ops = [tf.lite.OpsSet.TFLITE_BUILTINS_INT8]\n",
    "converter.inference_input_type = tf.uint8\n",
    "converter.inference_output_type = tf.uint8\n",
    "tflite_quant_model = converter.convert()\n",
    "with open('../models_data/lenet5/lenet5_uint8_mnist.tflite', 'wb') as f:\n",
    "  f.write(tflite_quant_model)\n",
    "\n",
    "converter.target_spec.supported_ops = [tf.lite.OpsSet.TFLITE_BUILTINS_INT8]\n",
    "converter.inference_input_type = tf.int8\n",
    "converter.inference_output_type = tf.int8\n",
    "tflite_quant_model = converter.convert()\n",
    "with open('../models_data/lenet5/lenet5_int8_mnist.tflite', 'wb') as f:\n",
    "  f.write(tflite_quant_model)\n"
   ]
  }
 ],
 "metadata": {
  "kernelspec": {
   "display_name": "base",
   "language": "python",
   "name": "python3"
  },
  "language_info": {
   "codemirror_mode": {
    "name": "ipython",
    "version": 3
   },
   "file_extension": ".py",
   "mimetype": "text/x-python",
   "name": "python",
   "nbconvert_exporter": "python",
   "pygments_lexer": "ipython3",
   "version": "3.11.7"
  }
 },
 "nbformat": 4,
 "nbformat_minor": 2
}
