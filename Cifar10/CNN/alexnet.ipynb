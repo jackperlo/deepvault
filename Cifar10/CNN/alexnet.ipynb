{
 "cells": [
  {
   "cell_type": "code",
   "execution_count": null,
   "metadata": {},
   "outputs": [],
   "source": [
    "import tensorflow as tf\n",
    "import keras\n",
    "from keras.layers import Dropout, MaxPool2D, Dense, Conv2D, Flatten, BatchNormalization\n",
    "from keras.models import Sequential\n",
    "import os"
   ]
  },
  {
   "cell_type": "code",
   "execution_count": null,
   "metadata": {},
   "outputs": [],
   "source": [
    "gpus = tf.config.list_physical_devices(device_type='GPU')\n",
    "print(gpus)\n",
    "if gpus:\n",
    "  try:\n",
    "    for gpu in gpus:\n",
    "      tf.config.experimental.set_memory_growth(gpu, True)\n",
    "    tf.config.set_visible_devices(gpus[0], 'GPU')\n",
    "    logical_gpus = tf.config.list_logical_devices('GPU')\n",
    "    print(f\"{len(gpus)} Physical GPUs, {len(logical_gpus)} Logical GPUs\")\n",
    "  except RuntimeError as e:\n",
    "    print(e)"
   ]
  },
  {
   "cell_type": "code",
   "execution_count": null,
   "metadata": {},
   "outputs": [],
   "source": [
    "(training_images, training_labels) , \\\n",
    "(validation_images, validation_labels) = \\\n",
    "tf.keras.datasets.cifar10.load_data()"
   ]
  },
  {
   "cell_type": "code",
   "execution_count": null,
   "metadata": {},
   "outputs": [],
   "source": [
    "def preprocess_image_input(input_images):\n",
    "  input_images = input_images.astype('float32')\n",
    "  output_ims = tf.keras.applications.imagenet_utils.preprocess_input(input_images, mode='tf')\n",
    "  return output_ims\n",
    "\n",
    "train_X = preprocess_image_input(training_images)\n",
    "valid_X = preprocess_image_input(validation_images)"
   ]
  },
  {
   "cell_type": "code",
   "execution_count": null,
   "metadata": {},
   "outputs": [],
   "source": [
    "@keras.saving.register_keras_serializable()\n",
    "class ResizeLayer(tf.keras.layers.Layer):\n",
    "  def __init__(self, size, method='nearest', **kwargs):\n",
    "    super(ResizeLayer, self).__init__(**kwargs)\n",
    "    self.size = size\n",
    "    self.method = method\n",
    "\n",
    "  def call(self, inputs):\n",
    "    return tf.image.resize(inputs, size=self.size, method=self.method)\n",
    "\n",
    "'''\n",
    "Since input image size is (32 x 32), first upsample the image by factor of (7x7) to transform it to (224 x 224)\n",
    "Connect the feature extraction and \"classifier\" layers to build the model.\n",
    "'''\n",
    "def create_model():\n",
    "    AlexNet = Sequential()\n",
    "\n",
    "    AlexNet.add(Conv2D(filters = 64, kernel_size = (3,3), strides = (1,1), activation = 'relu', input_shape = (224, 224, 3)))\n",
    "    AlexNet.add(BatchNormalization())\n",
    "    AlexNet.add(MaxPool2D(pool_size = (2,2), strides = (2,2), padding='same'))\n",
    "\n",
    "    AlexNet.add(Conv2D(filters = 128, kernel_size = (5,5), strides = (1,1), activation = 'relu', padding = 'same'))\n",
    "    AlexNet.add(BatchNormalization())\n",
    "    AlexNet.add(MaxPool2D(pool_size = (2,2), strides = (2,2), padding='same'))\n",
    "\n",
    "    AlexNet.add(Conv2D(filters = 256, kernel_size = (3,3), strides = (1,1), activation = 'relu', padding = 'same'))\n",
    "    AlexNet.add(BatchNormalization())\n",
    "\n",
    "    AlexNet.add(Conv2D(filters = 256, kernel_size = (3,3), strides = (1,1), activation = 'relu', padding = 'same'))\n",
    "    AlexNet.add(BatchNormalization())\n",
    "\n",
    "    AlexNet.add(Conv2D(filters = 128, kernel_size = (3,3), strides = (1,1), activation = 'relu', padding = 'same'))\n",
    "    AlexNet.add(BatchNormalization())\n",
    "    AlexNet.add(MaxPool2D(pool_size = (2,2), strides = (2,2), padding='same'))\n",
    "\n",
    "    AlexNet.add(Flatten())\n",
    "\n",
    "    AlexNet.add(Dense(units = 128, activation = 'relu'))\n",
    "    AlexNet.add(Dropout(0.5))\n",
    "\n",
    "    AlexNet.add(Dense(units = 128, activation = 'relu'))\n",
    "    AlexNet.add(Dropout(0.5))\n",
    "\n",
    "    AlexNet.add(Dense(units = 10, activation = 'softmax'))\n",
    "    return AlexNet\n",
    "\n",
    "def final_model(inputs):\n",
    "  AlexNet = create_model()\n",
    "  resize = ResizeLayer(size=(inputs.shape[1] * 7, inputs.shape[2] * 7))(inputs)\n",
    "  outputs = AlexNet(resize)\n",
    "  return outputs\n",
    "\n",
    "'''\n",
    "Define the model and compile it. \n",
    "Use Stochastic Gradient Descent as the optimizer.\n",
    "Use Sparse Categorical CrossEntropy as the loss function.\n",
    "'''\n",
    "def define_compile_model():\n",
    "  inputs = tf.keras.layers.Input(shape=(32,32,3))\n",
    "  classification_output = final_model(inputs) \n",
    "  model = tf.keras.Model(inputs=inputs, outputs = classification_output)\n",
    "\n",
    "  model.compile(optimizer='SGD', \n",
    "                loss='sparse_categorical_crossentropy',\n",
    "                metrics = ['accuracy'])\n",
    "  \n",
    "  return model\n",
    "\n",
    "\n",
    "model = define_compile_model()\n",
    "\n",
    "model.summary()"
   ]
  },
  {
   "cell_type": "code",
   "execution_count": null,
   "metadata": {},
   "outputs": [],
   "source": [
    "EPOCHS = 3\n",
    "\n",
    "history = model.fit(train_X, \n",
    "                    training_labels, \n",
    "                    epochs=EPOCHS, \n",
    "                    validation_data = (valid_X, validation_labels), \n",
    "                    batch_size=128)"
   ]
  },
  {
   "cell_type": "code",
   "execution_count": null,
   "metadata": {},
   "outputs": [],
   "source": [
    "MODEL_PATH = \"../models_data/alexnet/\"\n",
    "os.makedirs(MODEL_PATH, exist_ok=True)\n",
    "model.save(MODEL_PATH+'alexnet_fp32_cifar10.keras')"
   ]
  },
  {
   "cell_type": "code",
   "execution_count": null,
   "metadata": {},
   "outputs": [],
   "source": [
    "model.evaluate(valid_X, validation_labels)\n",
    "model.evaluate(valid_X[:2000], validation_labels[:2000])"
   ]
  },
  {
   "cell_type": "code",
   "execution_count": null,
   "metadata": {},
   "outputs": [],
   "source": [
    "def representative_dataset():\n",
    "  for images in tf.data.Dataset.from_tensor_slices(train_X).batch(1).take(1000):\n",
    "    yield [images]\n",
    "\n",
    "loaded_model = keras.saving.load_model(\"../models_data/alexnet/alexnet_fp32_cifar10.keras\")\n",
    "converter = tf.lite.TFLiteConverter.from_keras_model(loaded_model)\n",
    "converter.optimizations = [tf.lite.Optimize.DEFAULT] \n",
    "converter.representative_dataset = representative_dataset\n",
    "\n",
    "converter.target_spec.supported_ops = [tf.lite.OpsSet.TFLITE_BUILTINS_INT8]\n",
    "converter.inference_input_type = tf.uint8\n",
    "converter.inference_output_type = tf.uint8\n",
    "tflite_quant_model = converter.convert()\n",
    "with open('../models_data/alexnet/alexnet_uint8_cifar10.tflite', 'wb') as f:\n",
    "  f.write(tflite_quant_model)\n",
    "\n",
    "converter.target_spec.supported_ops = [tf.lite.OpsSet.TFLITE_BUILTINS_INT8]\n",
    "converter.inference_input_type = tf.int8\n",
    "converter.inference_output_type = tf.int8\n",
    "tflite_quant_model = converter.convert()\n",
    "with open('../models_data/alexnet/alexnet_int8_cifar10.tflite', 'wb') as f:\n",
    "  f.write(tflite_quant_model)"
   ]
  }
 ],
 "metadata": {
  "kernelspec": {
   "display_name": "base",
   "language": "python",
   "name": "python3"
  },
  "language_info": {
   "codemirror_mode": {
    "name": "ipython",
    "version": 3
   },
   "file_extension": ".py",
   "mimetype": "text/x-python",
   "name": "python",
   "nbconvert_exporter": "python",
   "pygments_lexer": "ipython3",
   "version": "3.11.7"
  }
 },
 "nbformat": 4,
 "nbformat_minor": 2
}
