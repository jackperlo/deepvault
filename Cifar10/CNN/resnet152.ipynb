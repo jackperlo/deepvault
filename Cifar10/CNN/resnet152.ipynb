{
 "cells": [
  {
   "cell_type": "code",
   "execution_count": null,
   "metadata": {},
   "outputs": [],
   "source": [
    "import tensorflow as tf\n",
    "import keras\n",
    "import os"
   ]
  },
  {
   "cell_type": "code",
   "execution_count": null,
   "metadata": {},
   "outputs": [],
   "source": [
    "gpus = tf.config.list_physical_devices(device_type='GPU')\n",
    "print(gpus)\n",
    "if gpus:\n",
    "  try:\n",
    "    for gpu in gpus:\n",
    "      tf.config.experimental.set_memory_growth(gpu, True)\n",
    "    tf.config.set_visible_devices(gpus[0], 'GPU')\n",
    "    logical_gpus = tf.config.list_logical_devices('GPU')\n",
    "    print(f\"{len(gpus)} Physical GPUs, {len(logical_gpus)} Logical GPUs\")\n",
    "  except RuntimeError as e:\n",
    "    print(e)"
   ]
  },
  {
   "cell_type": "code",
   "execution_count": null,
   "metadata": {},
   "outputs": [],
   "source": [
    "(training_images, training_labels) , \\\n",
    "(validation_images, validation_labels) = \\\n",
    "tf.keras.datasets.cifar10.load_data()"
   ]
  },
  {
   "cell_type": "code",
   "execution_count": null,
   "metadata": {},
   "outputs": [],
   "source": [
    "def preprocess_image_input(input_images):\n",
    "  input_images = input_images.astype('float32')\n",
    "  output_ims = tf.keras.applications.imagenet_utils.preprocess_input(input_images, mode='tf')\n",
    "  return output_ims\n",
    "\n",
    "train_X = preprocess_image_input(training_images)\n",
    "valid_X = preprocess_image_input(validation_images)"
   ]
  },
  {
   "cell_type": "code",
   "execution_count": null,
   "metadata": {},
   "outputs": [],
   "source": [
    "@keras.saving.register_keras_serializable()\n",
    "class ResizeLayer(tf.keras.layers.Layer):\n",
    "  def __init__(self, size, method='nearest', **kwargs):\n",
    "    super(ResizeLayer, self).__init__(**kwargs)\n",
    "    self.size = size\n",
    "    self.method = method\n",
    "\n",
    "  def call(self, inputs):\n",
    "    return tf.image.resize(inputs, size=self.size, method=self.method)\n",
    "\n",
    "'''\n",
    "Feature Extraction is performed by ResNet152 pretrained on imagenet weights. \n",
    "Input size is 224 x 224.\n",
    "'''\n",
    "def feature_extractor(inputs):\n",
    "  feature_extractor = tf.keras.applications.resnet.ResNet152(input_shape=(224, 224, 3),\n",
    "                                               include_top=False,\n",
    "                                               weights='imagenet')(inputs)\n",
    "  return feature_extractor\n",
    "\n",
    "\n",
    "'''\n",
    "Defines final dense layers and subsequent softmax layer for classification.\n",
    "'''\n",
    "def classifier(inputs):\n",
    "  x = tf.keras.layers.GlobalAveragePooling2D()(inputs)\n",
    "  x = tf.keras.layers.Flatten()(x)\n",
    "  x = tf.keras.layers.Dense(1024, activation=\"relu\")(x)\n",
    "  x = tf.keras.layers.Dense(512, activation=\"relu\")(x)\n",
    "  x = tf.keras.layers.Dense(10, activation=\"softmax\", name=\"classification\")(x)\n",
    "  return x\n",
    "\n",
    "'''\n",
    "Since input image size is (32 x 32), first upsample the image by factor of (7x7) to transform it to (224 x 224)\n",
    "Connect the feature extraction and \"classifier\" layers to build the model.\n",
    "'''\n",
    "def final_model(inputs):\n",
    "  resize = ResizeLayer(size=(inputs.shape[1] * 7, inputs.shape[2] * 7))(inputs)\n",
    "  resnet_feature_extractor = feature_extractor(resize)\n",
    "  classification_output = classifier(resnet_feature_extractor)\n",
    "  return classification_output\n",
    "\n",
    "'''\n",
    "Define the model and compile it. \n",
    "Use Stochastic Gradient Descent as the optimizer.\n",
    "Use Sparse Categorical CrossEntropy as the loss function.\n",
    "'''\n",
    "def define_compile_model():\n",
    "  inputs = tf.keras.layers.Input(shape=(32,32,3))\n",
    "  \n",
    "  classification_output = final_model(inputs) \n",
    "  model = tf.keras.Model(inputs=inputs, outputs = classification_output)\n",
    " \n",
    "  model.compile(optimizer='SGD', \n",
    "                loss='sparse_categorical_crossentropy',\n",
    "                metrics = ['accuracy'])\n",
    "  \n",
    "  return model\n",
    "\n",
    "\n",
    "model = define_compile_model()\n",
    "\n",
    "model.summary()"
   ]
  },
  {
   "cell_type": "code",
   "execution_count": null,
   "metadata": {},
   "outputs": [],
   "source": [
    "EPOCHS = 3\n",
    "\n",
    "history = model.fit(train_X, \n",
    "                    training_labels, \n",
    "                    epochs=EPOCHS, \n",
    "                    validation_data = (valid_X, validation_labels), \n",
    "                    batch_size=64)"
   ]
  },
  {
   "cell_type": "code",
   "execution_count": null,
   "metadata": {},
   "outputs": [],
   "source": [
    "MODEL_PATH = \"../models_data/resnet152/\"\n",
    "os.makedirs(MODEL_PATH, exist_ok=True)\n",
    "model.save(MODEL_PATH+'resnet152_fp32_cifar10.keras')"
   ]
  },
  {
   "cell_type": "code",
   "execution_count": null,
   "metadata": {},
   "outputs": [],
   "source": [
    "model.evaluate(valid_X, validation_labels)\n",
    "model.evaluate(valid_X[:2000], validation_labels[:2000])"
   ]
  },
  {
   "cell_type": "code",
   "execution_count": null,
   "metadata": {},
   "outputs": [],
   "source": [
    "def representative_dataset():\n",
    "  for images in tf.data.Dataset.from_tensor_slices(train_X).batch(1).take(1000):\n",
    "    yield [images]\n",
    "\n",
    "loaded_model = keras.saving.load_model(\"../models_data/resnet152/resnet152_fp32_cifar10.keras\")\n",
    "converter = tf.lite.TFLiteConverter.from_keras_model(loaded_model)\n",
    "converter.optimizations = [tf.lite.Optimize.DEFAULT] \n",
    "converter.representative_dataset = representative_dataset\n",
    "\n",
    "converter.target_spec.supported_ops = [tf.lite.OpsSet.TFLITE_BUILTINS_INT8]\n",
    "converter.inference_input_type = tf.uint8\n",
    "converter.inference_output_type = tf.uint8\n",
    "tflite_quant_model = converter.convert()\n",
    "with open('../models_data/resnet152/resnet152_uint8_cifar10.tflite', 'wb') as f:\n",
    "  f.write(tflite_quant_model)\n",
    "\n",
    "converter.target_spec.supported_ops = [tf.lite.OpsSet.TFLITE_BUILTINS_INT8]\n",
    "converter.inference_input_type = tf.int8\n",
    "converter.inference_output_type = tf.int8\n",
    "tflite_quant_model = converter.convert()\n",
    "with open('../models_data/resnet152/resnet152_int8_cifar10.tflite', 'wb') as f:\n",
    "  f.write(tflite_quant_model)"
   ]
  }
 ],
 "metadata": {
  "kernelspec": {
   "display_name": "jacki_venv",
   "language": "python",
   "name": "python3"
  },
  "language_info": {
   "codemirror_mode": {
    "name": "ipython",
    "version": 3
   },
   "file_extension": ".py",
   "mimetype": "text/x-python",
   "name": "python",
   "nbconvert_exporter": "python",
   "pygments_lexer": "ipython3",
   "version": "3.10.12"
  }
 },
 "nbformat": 4,
 "nbformat_minor": 2
}
